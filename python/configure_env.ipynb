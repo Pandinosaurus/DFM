#!/usr/bin/dfm python3
# -*- coding: utf-8 -*-
"""
Created on Fri Jun  4 12:28:02 2021

@author: kutalmisince
"""

!conda create -n dfm python==3.7.1 spyder
!conda activate dfm
!conda install pytorch==1.7.1 torchvision==0.8.2 torchaudio==0.7.2 cudatoolkit=11.0 -c pytorch
!conda install matplotlib==3.3.4
!conda install pillow==8.2.0
!conda install opencv==3.4.2

